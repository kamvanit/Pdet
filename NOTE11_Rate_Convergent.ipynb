{
 "cells": [
  {
   "cell_type": "markdown",
   "id": "f93c61ce",
   "metadata": {},
   "source": [
    "## Yearly BBH merger detection calculation\n",
    "\n",
    "import input below"
   ]
  },
  {
   "cell_type": "code",
   "execution_count": 8,
   "id": "6e59d5c3",
   "metadata": {},
   "outputs": [],
   "source": [
    "import numpy as np\n",
    "import matplotlib.pyplot as plt\n",
    "from scipy import interpolate\n",
    "from scipy import integrate\n",
    "from pesummary.io import read\n",
    "from astropy.cosmology import LambdaCDM\n",
    "import astropy.units as u\n",
    "# for waveform generator\n",
    "#import logging\n",
    "#import io\n",
    "import bilby\n",
    "\n",
    "%matplotlib inline\n",
    "%config InlineBackend.figure_format='retina'\n",
    "\n",
    "\n",
    "cosmo = LambdaCDM(H0=70, Om0=0.3, Ode0=0.7)\n",
    "R0    = 30           #rate scale- no./GPc^3 /year\n",
    "Mmin  = 5\n",
    "Mmax  = 50\n",
    "\n",
    "\n",
    "#################### P(w) data.  ####################\n",
    "Pw    = np.loadtxt('pw_detectors_data/pw_single.txt')\n",
    "w     = Pw[:,0]\n",
    "\n",
    "\n",
    "#################### SENSITIVITY ####################\n",
    "ligoO3 = np.loadtxt('aligo_O3actual_H1.txt')\n",
    "psd3   = (ligoO3[:,1] )**2      \n",
    "fligo3 = ligoO3[:,0]\n",
    "\n",
    "\n",
    "############# Previously generated Pdet from UNIFORM m & z ####################\n",
    "pdet12 = np.load('DATA/Pdet_N1200uniform.npy')    # for N = 1200 x 1200 etc.\n",
    "pdet10 = np.load('DATA/Pdet_N1000uniform.npy')\n",
    "pdet8  = np.load('DATA/Pdet_N800uniform.npy')\n",
    "pdet6  = np.load('DATA/Pdet_N600uniform.npy')\n",
    "pdet4  = np.load('DATA/Pdet_N400uniform.npy')\n",
    "pdet2  = np.load('DATA/Pdet_N200uniform.npy')\n",
    "\n",
    "#################### Pdet from random m and z #################### \n",
    "pdet16ran = np.load('DATA/Pdet_N1600.npy')\n",
    "pdet14ran = np.load('DATA/Pdet_N1400.npy')\n",
    "pdet12ran = np.load('DATA/Pdet_N1200.npy')\n",
    "pdet8ran  = np.load('DATA/Pdet_N800rand.npy')\n",
    "pdet6ran  = np.load('DATA/Pdet_N600.npy')\n",
    "pdet4ran  = np.load('DATA/Pdet_N400.npy')\n",
    "pdet2ran  = np.load('DATA/Pdet_N200.npy')\n",
    "\n",
    "#################### Randomly generated m and z #################### \n",
    "mgen16  = np.load('DATA/mmatrixN1600_NoOrder.npy')\n",
    "mgen14  = np.load('DATA/mmatrixN1400_NoOrder.npy')\n",
    "mgen12  = np.load('DATA/mmatrixN1200_NoOrder.npy')\n",
    "mgen8   = np.load('DATA/mmatrixN800_NoOrder.npy')\n",
    "\n",
    "zgen12  = np.load('DATA/zmatrixN1200_NoOrder.npy')\n",
    "zgen14  = np.load('DATA/zmatrixN1400_NoOrder.npy')\n",
    "zgen16  = np.load('DATA/zmatrixN1600_NoOrder.npy')\n",
    "zgen8   = np.load('DATA/zmatrixN800_NoOrder.npy')\n"
   ]
  },
  {
   "cell_type": "markdown",
   "id": "d6f62ad2",
   "metadata": {},
   "source": [
    "## Functions\n",
    "### i.e. Waveform generator"
   ]
  },
  {
   "cell_type": "code",
   "execution_count": 6,
   "id": "de3d3991",
   "metadata": {},
   "outputs": [
    {
     "name": "stderr",
     "output_type": "stream",
     "text": [
      "16:33 bilby INFO    : Waveform generator initiated with\n",
      "  frequency_domain_source_model: bilby.gw.source.lal_binary_black_hole\n",
      "  time_domain_source_model: None\n",
      "  parameter_conversion: bilby.gw.conversion.convert_to_lal_binary_black_hole_parameters\n"
     ]
    }
   ],
   "source": [
    "def z_distribution(sample_num, alpha,beta,z_p,zmax):\n",
    "    #originally alpha = 1.6, beta = 3.4, z_p = 2.4 #can change these to input if needed\n",
    "\n",
    "    z      = np.arange(0,zmax,0.1) #model range\n",
    "    frac   = (1+z)/(1+z_p)\n",
    "    pz     = ((1+z)**alpha ) / (1+ frac**(alpha+beta) ) #distribution\n",
    "\n",
    "    CDFz   = integrate.cumtrapz(pz,z)\n",
    "    Cz     = CDFz[-1]\n",
    "    nCDFz  = CDFz/Cz\n",
    "    \n",
    "    sample = np.random.uniform( nCDFz[0],1,sample_num)\n",
    "    intpZ  = interpolate.interp1d( nCDFz,z[:-1] ) #x y\n",
    "    newz   = intpZ(sample)\n",
    "    return newz, Cz\n",
    "\n",
    "\n",
    "def m_distribution(sample_num,mmin,mmax,a):\n",
    "    m  = np.arange(mmin,mmax,0.1)\n",
    "    pm = m**(a)      # the distribution \n",
    "    \n",
    "    CDFm = integrate.cumtrapz(pm,m)\n",
    "    Cm = CDFm[-1]\n",
    "    nCDFm = CDFm/Cm\n",
    "    \n",
    "    sample = np.random.uniform(0.01,1,sample_num)\n",
    "    intpm = interpolate.interp1d( nCDFm,m[:-1] ) #x y\n",
    "    newm = intpm(sample)\n",
    "    return newm, Cm\n",
    "\n",
    "\n",
    "def tiling(m,z,ns):\n",
    "    mt = np.tile( m, (ns,1) )\n",
    "    mT = np.transpose( mt )\n",
    "    \n",
    "    zt = np.tile( z,(ns,1) )\n",
    "    return mT,zt\n",
    "\n",
    "# Function for mass ratio q = m2/m1, not used here\n",
    "\"\"\"\n",
    "def qdist(mmin,m1,a,sample_num): \n",
    "    #we first pick the larger one, M1.\n",
    "    q = np.arange(mmin/m1,1.2,0.1) #mmin/m1\n",
    "\n",
    "    phi = q**(-a) #a=0.1\n",
    "    \n",
    "    CDFm = integrate.cumtrapz(phi,q)\n",
    "    Cm   = CDFm[-1]\n",
    "    nCDFm = CDFm/Cm #new normalised phi cumulative\n",
    "    \n",
    "    sample = np.random.uniform( nCDFm[0],1, sample_num ) \n",
    "    #interpolate(y,x)\n",
    "    intpm = interpolate.interp1d( nCDFm,q[:-1])#, bounds_error=False, fill_value=(mmin/m1,1) ) #fill value with qmin qmax\n",
    "    newq  = intpm(sample)\n",
    "    \n",
    "    m2 = m1*newq                  # conts / array len samplenum\n",
    "\n",
    "    return newq,m2#,m2[(m2>5)&(m2<50)]\n",
    "\n",
    "qdist = np.vectorize(qdist)\n",
    "\"\"\"\n",
    "\n",
    "\n",
    "def pwfunc(wdata):\n",
    "    f = interpolate.interp1d( w, Pw[:,1],bounds_error=False,fill_value=(1,0) ) \n",
    "    newPw = f(wdata)\n",
    "    return newPw\n",
    "\n",
    "\n",
    "def Fp(RA,DEC,PSI): \n",
    "    phi = RA\n",
    "    theta = np.pi/2.0 - DEC\n",
    "    return 0.5*(1 + np.cos(theta)**2)*np.cos(2*phi)*np.cos(2*PSI) - np.cos(theta)*np.sin(2*phi)*np.sin(2*PSI)\n",
    "\n",
    "#psi=polarisation angle\n",
    "def Fx(RA,DEC,PSI): \n",
    "    phi = RA\n",
    "    theta = np.pi/2.0 - DEC\n",
    "    return 0.5*(1 + np.cos(theta)**2)*np.cos(2*phi)*np.sin(2*PSI) + np.cos(theta)*np.sin(2*phi)*np.cos(2*PSI)\n",
    "\n",
    "\n",
    "\n",
    "\n",
    "duration = 2.0\n",
    "sampling_frequency = 2048.0\n",
    "##### WAVEFORM ARGUMENTS #####\n",
    "waveform_arguments = dict(\n",
    "        waveform_approximant = 'IMRphenomXAS', #'IMRPhenomXPHM', #IMRphenomXAS\n",
    "        reference_frequency = 50.,\n",
    "        minimum_frequency = 170, #20.,\n",
    "        maximum_frequency = 1000, #2000.,\n",
    "        mode_array = [[2,2],[2,-2]]#,[2,1],[2,-1],[3,3],[3,-3],[3,2],[3,-2],[4,4],[4,-4]]\n",
    "    )\n",
    "\n",
    "waveform_generator = bilby.gw.WaveformGenerator(duration = duration,\n",
    "    sampling_frequency = sampling_frequency,\n",
    "    frequency_domain_source_model = bilby.gw.source.lal_binary_black_hole,\n",
    "    parameter_conversion = bilby.gw.conversion.convert_to_lal_binary_black_hole_parameters,\n",
    "    waveform_arguments = waveform_arguments,\n",
    "    )\n",
    "\n",
    "    \n",
    "    \n",
    "def waveform(Binary_parameters, Waveform_arguments,Fx,Fp):\n",
    "    gen_h = waveform_generator.frequency_domain_strain(Binary_parameters)\n",
    "    fs = bilby.core.utils.series.create_frequency_series(sampling_frequency,duration)\n",
    "\n",
    "    hp = gen_h['plus']\n",
    "    hx = gen_h['cross']\n",
    "    \n",
    "    # MAXIMUM SETTING \n",
    "    #h = Fx*hx + Fp*hp\n",
    "    hmod2 = np.conj(hp)*hp\n",
    "    return hx, hp, hmod2, fs\n",
    "\n",
    "\n",
    "psdinterp3    = interpolate.interp1d( fligo3, psd3, bounds_error=False, fill_value=(1,1) )\n",
    "\n",
    "def SNR(fs, hmod2, psdinterp ):\n",
    "    #f    = interpolate.interp1d( PSDf, PSDs, bounds_error=False, fill_value=(1,1) ) #fill_value when Snf out of range to 1 to make func go to 0\n",
    "    inte = hmod2 / psdinterp(fs) \n",
    "    return np.sqrt( 4*integrate.trapezoid(inte,fs ) )\n",
    "\n",
    "\n",
    "   \n",
    "    \n",
    "def Pdet( m1,Z,m2,psdinterp ): \n",
    "    Ra  = 0  \n",
    "    Dec = 0 \n",
    "    Psi = 0\n",
    "    LD = cosmo.luminosity_distance(Z) \n",
    "    binary_parameters = dict(\n",
    "                mass_1= m1*(1+Z),\n",
    "                mass_2= m2*(1+Z),\n",
    "                a_1 = 0 ,\n",
    "                a_2 = 0,\n",
    "                tilt_1= 0,                      \n",
    "                tilt_2= 0,\n",
    "                phi_12= 0,\n",
    "                phi_jl= 0,\n",
    "                luminosity_distance = LD/u.Mpc , # Mpc \n",
    "                theta_jn = 0, \n",
    "                psi = Psi,                       # polarisation\n",
    "                phase = np.random.uniform(0,2*np.pi),                  \n",
    "                geocent_time = 0,\n",
    "                ra = Ra,                       \n",
    "                dec = Dec, \n",
    "                #chi1 = 0 #spin for object 1 (but this is a number of chi_eff)\n",
    "            )\n",
    "     \n",
    "    hx_gen, hp_gen, Hmod2, fs_gen = waveform(binary_parameters, waveform_arguments,Fp(Ra,Dec,Psi),Fx(Ra,Dec,Psi) )\n",
    "                               \n",
    "    snr   = SNR(fs_gen, Hmod2, psdinterp)\n",
    "   \n",
    "    omega = np.real( 8 /snr)\n",
    "    \n",
    "    return snr, omega, pwfunc(omega) #pwfunc takes care of when something goes out of range\n",
    "\n",
    "\n",
    "\n",
    "Pdet = np.vectorize(Pdet) "
   ]
  },
  {
   "cell_type": "markdown",
   "id": "96af7015",
   "metadata": {},
   "source": [
    "## For generating new random m and z\n",
    "Normalisation constant cz and cm are the same regardless of Ns\n",
    "\n",
    "(2.447036827279441, 5.91483085231679)"
   ]
  },
  {
   "cell_type": "code",
   "execution_count": 5,
   "id": "9b4b8ed9",
   "metadata": {},
   "outputs": [
    {
     "data": {
      "text/plain": [
       "(2.447036827279441, 5.91483085231679)"
      ]
     },
     "execution_count": 5,
     "metadata": {},
     "output_type": "execute_result"
    }
   ],
   "source": [
    "Ns = 100\n",
    "A  = 1.6\n",
    "B  = 3.4\n",
    "Zp = 1 # z peak\n",
    "Zm = 2 # z max\n",
    "\n",
    "\n",
    "zgen, cz = z_distribution( sample_num = Ns, alpha=A, beta=B, z_p=Zp, zmax=Zm )\n",
    "zgent    = np.tile( zgen,(Ns,1) )\n",
    "\n",
    "\n",
    "m1gen,cm = m_distribution( sample_num = Ns, mmin = 5, mmax = 50, a = -2/3 )\n",
    "m1gent   = np.tile( m1gen, (Ns,1) )\n",
    "m1genT   = np.transpose( m1gent )\n",
    "\n",
    "#np.save('DATA/Pdet_N'+str(Ns)+'rand.npy',PWfunc)\n",
    "#np.save('DATA/mmatrixN'+str(Ns)+'_NoOrder.npy',m1genT)\n",
    "#np.save('DATA/zmatrixN'+str(Ns)+'_NoOrder.npy',zgent)\n",
    "\n",
    "cz,cm"
   ]
  },
  {
   "cell_type": "markdown",
   "id": "7a8e753b",
   "metadata": {},
   "source": [
    "## For generating uniform m,z"
   ]
  },
  {
   "cell_type": "code",
   "execution_count": 27,
   "id": "00a95d29",
   "metadata": {},
   "outputs": [
    {
     "data": {
      "text/plain": [
       "array([0.0025, 0.005 , 0.0075, ..., 1.995 , 1.9975, 2.    ])"
      ]
     },
     "execution_count": 27,
     "metadata": {},
     "output_type": "execute_result"
    }
   ],
   "source": [
    "Ns = 100\n",
    "#print('Name: DATA/Pdet_N'+str(Ns)+'uniform.npy')\n",
    "\n",
    "zuni = np.linspace(2/Ns,2,Ns)\n",
    "muni = np.linspace(Mmin,Mmax,Ns)\n",
    "\n",
    "m1uni,z1uni = tiling(muni,zuni,Ns)\n"
   ]
  },
  {
   "cell_type": "markdown",
   "id": "3b849291",
   "metadata": {},
   "source": [
    "## Now run code for Pdet"
   ]
  },
  {
   "cell_type": "code",
   "execution_count": null,
   "id": "cf632774",
   "metadata": {},
   "outputs": [],
   "source": [
    "%%time\n",
    "                    #Input:2d matrix, 2d mat, 2d matrix\n",
    "Snr, Omega, PWfunc = Pdet( m1=m1uni, Z=z1uni, m2=m1genT, psdinterp=psdinterp3 ) "
   ]
  },
  {
   "cell_type": "markdown",
   "id": "715f3685",
   "metadata": {},
   "source": [
    "### Saving data"
   ]
  },
  {
   "cell_type": "code",
   "execution_count": 63,
   "id": "1aaea94d",
   "metadata": {},
   "outputs": [
    {
     "name": "stdout",
     "output_type": "stream",
     "text": [
      "Name: DATA/Pdet_N800uniform.npy\n"
     ]
    }
   ],
   "source": [
    "np.save('DATA/Pdet_N'+str(Ns)+'.npy', PWfunc)\n",
    "np.save('DATA/zmatrixN'+str(Ns)+'_NoOrder.npy',zgen)\n",
    "np.save('DATA/mmatrixN'+str(Ns)+'_NoOrder.npy',m1gen)\n",
    "\n",
    "G1 = np.load('DATA/Pdet_N'+str(Ns)+'.npy')\n",
    "\n",
    "print('Filename: DATA/Pdet_N'+str(Ns)+'.npy,','shape=',np.shape(G1) )"
   ]
  },
  {
   "cell_type": "markdown",
   "id": "d1464fab",
   "metadata": {},
   "source": [
    "# Rate calculation functions\n",
    "## 1. By integration ( for uniformly generated m and z )\n",
    "## $ \\int\\int \\frac{R(1+z)}{1+z} \\frac{dV_c}{dz}P_{det}(z,m) p(m) dzdm $\n",
    "Where\n",
    "## $ p(z)\\propto \\frac{ (1+z)^ \\alpha}{1+(\\frac{1+z}{1+z_p})^{\\alpha+\\beta} }$\n",
    "## $ p(m)\\propto m^{(-2/3)} $"
   ]
  },
  {
   "cell_type": "code",
   "execution_count": 20,
   "id": "9d035550",
   "metadata": {},
   "outputs": [],
   "source": [
    "def integrand(x,m,Cm,Dvdz,pdet):\n",
    "    frac   = (1+x)/(1+Zp)\n",
    "    pz     = ((1+x)**A ) / (1+ frac**(A+B) ) \n",
    "    pm     = (m**(-2/3)) /Cm\n",
    "    return R0 *  ( 1+(1+Zp)**(-A-B) ) * pz * Dvdz * pdet * pm /(1+x) \n",
    "\n",
    "\n",
    "def rate_int_uniform(pdet,Cm,mmin,mmax,zm,ns):\n",
    "    zuni = np.linspace(0.1,zm,ns)\n",
    "    muni = np.linspace(mmin,mmax,ns)\n",
    "    MtileT, Ztile = tiling(muni,zuni,ns) \n",
    "    \n",
    "    dvdz = 4*np.pi* cosmo.differential_comoving_volume(Ztile).value /(10**3)**3  #2d grid\n",
    "    \n",
    "    Int = integrand(Ztile, Cm, MtileT,dvdz,pdet) #pdet also in same grid\n",
    "\n",
    "\n",
    "    # INTEGRATION STEPs\n",
    "    dz = np.trapz( Int, Ztile, axis=1 )\n",
    "   \n",
    "    Mlist = MtileT[:,0]\n",
    "    dNdt = np.trapz( dz, Mlist, axis=0 )  \n",
    "    \n",
    "    return dNdt   # this is dN/dt aka: rate\n",
    "\n"
   ]
  },
  {
   "cell_type": "code",
   "execution_count": 21,
   "id": "45293b71",
   "metadata": {},
   "outputs": [
    {
     "name": "stdout",
     "output_type": "stream",
     "text": [
      "Rate for O3 with equal mass and Ns 1200 = 2.5034621153458376\n",
      "Rate for O3 with equal mass and Ns 1000 = 2.503463474216751\n",
      "Rate for O3 with equal mass and Ns 800 = 2.5034792934376653\n",
      "Rate for O3 with equal mass and Ns 600 = 2.5035106735987647\n",
      "Rate for O3 with equal mass and Ns 400 = 2.503611111402752\n",
      "Rate for O3 with equal mass and Ns 200 = 2.5041929996443675\n"
     ]
    }
   ],
   "source": [
    "print('Rate for O3 with equal mass and Ns',1200,'=', rate_int_uniform( pdet12,cm,Mmin,Mmax,Zm,1200 ) )\n",
    "print('Rate for O3 with equal mass and Ns',1000,'=', rate_int_uniform( pdet10,cm,Mmin,Mmax,Zm,1000 ) )\n",
    "print('Rate for O3 with equal mass and Ns',800,'=', rate_int_uniform( pdet8,cm,Mmin,Mmax,Zm,800 ) )\n",
    "print('Rate for O3 with equal mass and Ns',600,'=', rate_int_uniform( pdet6,cm,Mmin,Mmax,Zm,600 ) )\n",
    "print('Rate for O3 with equal mass and Ns',400,'=', rate_int_uniform( pdet4,cm,Mmin,Mmax,Zm,400 ) )\n",
    "print('Rate for O3 with equal mass and Ns',200,'=', rate_int_uniform( pdet2,cm,Mmin,Mmax,Zm,200 ) )\n"
   ]
  },
  {
   "cell_type": "markdown",
   "id": "c158e695",
   "metadata": {},
   "source": [
    "## 2. By using expectation values (for randomly generated m and z )\n",
    "\n",
    "## $ \\int f(z)p(z) dz  \\approx  <f(z)>_{p(z)} $\n",
    "## $ = \\frac{1}{N_s^2} \\sum_z { (R_0n \\frac{c}{1+z} \\frac{dV_c}{dz} P_{det})} $\n",
    "\n"
   ]
  },
  {
   "cell_type": "code",
   "execution_count": 22,
   "id": "92afaa38",
   "metadata": {},
   "outputs": [],
   "source": [
    "def rate_exp( pdet, z, zp, Cz, ns ): \n",
    "    \n",
    "    dvdz    = 4*np.pi* cosmo.differential_comoving_volume(z).value /(10**3)**3 \n",
    "    formula = R0 * ( 1+(1+zp)**(-A-B) ) * Cz * dvdz * pdet /(1+z)\n",
    "    \n",
    "    return 1/ns/ns * sum(sum(formula))"
   ]
  },
  {
   "cell_type": "code",
   "execution_count": 24,
   "id": "49c17ec6",
   "metadata": {},
   "outputs": [
    {
     "name": "stdout",
     "output_type": "stream",
     "text": [
      "rate as calculated from expectation value with Ns 1600 = 8.597553231913414\n",
      "rate as calculated from expectation value with Ns 1400 = 8.955470974352986\n",
      "rate as calculated from expectation value with Ns 1200 = 10.013085359119998\n",
      "rate as calculated from expectation value with Ns 800 = 8.392431301526344\n"
     ]
    }
   ],
   "source": [
    "print('rate as calculated from expectation value with Ns',1600,'=', rate_exp(pdet16ran,zgen16,Zp,cz,1600) )\n",
    "print('rate as calculated from expectation value with Ns',1400,'=', rate_exp(pdet14ran,zgen14,Zp,cz,1400) )\n",
    "print('rate as calculated from expectation value with Ns',1200,'=', rate_exp(pdet12ran,zgen12,Zp,cz,1200) )\n",
    "#print('rate as calculated from expectation value with Ns',Ns,'=', rate_exp(pdet10ran,zgen10,2.447,1000) )\n",
    "print('rate as calculated from expectation value with Ns',800,'=', rate_exp(pdet8ran,zgen8,Zp,cz,800) )"
   ]
  },
  {
   "cell_type": "markdown",
   "id": "212795b3",
   "metadata": {},
   "source": []
  },
  {
   "cell_type": "code",
   "execution_count": null,
   "id": "02862668",
   "metadata": {},
   "outputs": [],
   "source": []
  },
  {
   "cell_type": "markdown",
   "id": "ea83a1fe",
   "metadata": {},
   "source": []
  },
  {
   "cell_type": "code",
   "execution_count": null,
   "id": "73c7c393",
   "metadata": {
    "scrolled": true
   },
   "outputs": [],
   "source": [
    "\n",
    "\"\"\"   \n",
    "def rate_int(Ztile,Mtile,Mlist,pdet,ns):\n",
    "    \n",
    "    dvdz = 4*np.pi* cosmo.differential_comoving_volume(Ztile).value /(10**3)**3  #2d grid\n",
    "    #ref points should be meshgrid\n",
    "\n",
    "    \n",
    "    Int = integrand(Ztile,Mtile,dvdz,pdet)\n",
    "\n",
    "    # INTEGRATION STEP\n",
    "    dz = np.trapz( Int, Ztile, axis=1 )\n",
    "   \n",
    "    dNdt = np.trapz( dz, Mlist, axis=0 )\n",
    "    #dNdt = np.trapz( dm, Zlist, axis=0 )\n",
    "    \n",
    "    return dNdt   # this is dN/dt aka: rate\n",
    "\n",
    "\"\"\" "
   ]
  },
  {
   "cell_type": "markdown",
   "id": "1ca737e4",
   "metadata": {},
   "source": []
  },
  {
   "cell_type": "code",
   "execution_count": null,
   "id": "af9e1f55",
   "metadata": {},
   "outputs": [],
   "source": []
  },
  {
   "cell_type": "code",
   "execution_count": null,
   "id": "15d3c4a0",
   "metadata": {},
   "outputs": [],
   "source": [
    "#z is 2d and UNSORTED like pdet\n",
    "\"\"\"\n",
    "def rate_exp( pdet, z ): \n",
    "    \n",
    "    frac   = (1+z)/(1+Zp)\n",
    "    pz     = ((1+z)**A ) / (1+ frac**(A+B) ) \n",
    "    #print(z[0], 'all close?', np.allclose(z[:,0]) )\n",
    "    #plt.pcolormesh(z)\n",
    "    #plt.show()\n",
    "    dvdz    = 4*np.pi* cosmo.differential_comoving_volume(z).value /(10**3)**3 \n",
    "    formula = R0 * ( 1+(1+Zp)**(-A-B) ) * dvdz * pdet /(1+z)\n",
    "    \n",
    "    \n",
    "    # each z has to be p(z) no??\n",
    "    formula2 = R0 * ( 1+(1+Zp)**(-A-B) ) * dvdz * pdet /(1+pz)  # pdet ; 2d z, 2d m, not in order\n",
    "    #plt.pcolormesh(mat)\n",
    "    #plt.show()\n",
    "    \n",
    "    return formula2\n",
    "    #return 1/ns * (sum(formula2)),  1/ns * (sum(formula)) #wrong\n",
    "    #return 1/ns/ns * sum(sum(formula2)),  1/ns/ns * sum(sum(formula))\n",
    "\n",
    "\n",
    "rate_exp = np.vectorize(rate_exp)  \n",
    "#rate = rate_exp(z400t,Pdet400,z400,Ns)\n",
    "rate = rate_exp(PWfunc,z14t)\n",
    "print('rate as calculated from expectation value with Ns',1400,'=', rate )\n",
    "\"\"\""
   ]
  },
  {
   "cell_type": "code",
   "execution_count": null,
   "id": "d16b2530",
   "metadata": {},
   "outputs": [],
   "source": []
  },
  {
   "cell_type": "markdown",
   "id": "2a25efad",
   "metadata": {},
   "source": []
  },
  {
   "cell_type": "code",
   "execution_count": null,
   "id": "7d3eb31d",
   "metadata": {},
   "outputs": [],
   "source": []
  },
  {
   "cell_type": "markdown",
   "id": "bf874c21",
   "metadata": {},
   "source": []
  },
  {
   "cell_type": "code",
   "execution_count": null,
   "id": "bc8ae6cf",
   "metadata": {},
   "outputs": [],
   "source": []
  },
  {
   "cell_type": "code",
   "execution_count": null,
   "id": "9e8482e3",
   "metadata": {},
   "outputs": [],
   "source": [
    "# upload this on github\n",
    "# /normalise m\n",
    "# check if m distribution used in bayesian is consistent with ligo paper (fig10),fig(13)\n",
    "# use continuity eqn\n",
    "\n",
    "# run with. flat universe but without approx equations\n",
    "# look at censor list"
   ]
  },
  {
   "cell_type": "code",
   "execution_count": null,
   "id": "f6f21d25",
   "metadata": {},
   "outputs": [],
   "source": []
  },
  {
   "cell_type": "code",
   "execution_count": null,
   "id": "bb0f19eb",
   "metadata": {},
   "outputs": [],
   "source": []
  },
  {
   "cell_type": "code",
   "execution_count": 13,
   "id": "d92d0ed4",
   "metadata": {},
   "outputs": [
    {
     "data": {
      "text/plain": [
       "5.922166655891068"
      ]
     },
     "execution_count": 13,
     "metadata": {},
     "output_type": "execute_result"
    }
   ],
   "source": [
    "3*(50**(1/3)-5**(1/3))"
   ]
  },
  {
   "cell_type": "code",
   "execution_count": null,
   "id": "f4a4eff9",
   "metadata": {},
   "outputs": [],
   "source": []
  },
  {
   "cell_type": "code",
   "execution_count": null,
   "id": "d8429207",
   "metadata": {},
   "outputs": [],
   "source": [
    "# note\n",
    "#/ use mmin and zmin to find fmax - and use mmax and zmax to find fmin of the whole range\n",
    "\n",
    "# / the rate formula is wrong for uniform dist.\n",
    "# / change wavemode\n",
    "# / check integral error estimation for rate"
   ]
  }
 ],
 "metadata": {
  "kernelspec": {
   "display_name": "Python 3 (ipykernel)",
   "language": "python",
   "name": "python3"
  },
  "language_info": {
   "codemirror_mode": {
    "name": "ipython",
    "version": 3
   },
   "file_extension": ".py",
   "mimetype": "text/x-python",
   "name": "python",
   "nbconvert_exporter": "python",
   "pygments_lexer": "ipython3",
   "version": "3.9.7"
  }
 },
 "nbformat": 4,
 "nbformat_minor": 5
}
